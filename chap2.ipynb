{
  "nbformat": 4,
  "nbformat_minor": 0,
  "metadata": {
    "colab": {
      "name": "chap2.의 사본",
      "provenance": [],
      "authorship_tag": "ABX9TyNonFm6rUSdmYqObL4gLn6M",
      "include_colab_link": true
    },
    "kernelspec": {
      "name": "python3",
      "display_name": "Python 3"
    },
    "language_info": {
      "name": "python"
    }
  },
  "cells": [
    {
      "cell_type": "markdown",
      "metadata": {
        "id": "view-in-github",
        "colab_type": "text"
      },
      "source": [
        "<a href=\"https://colab.research.google.com/github/behaapyy/bioinformatics_with_python/blob/main/chap2.ipynb\" target=\"_parent\"><img src=\"https://colab.research.google.com/assets/colab-badge.svg\" alt=\"Open In Colab\"/></a>"
      ]
    },
    {
      "cell_type": "markdown",
      "source": [
        "2장. 차세대 염기서열 분석"
      ],
      "metadata": {
        "id": "QPmxZIt5jBzQ"
      }
    },
    {
      "cell_type": "code",
      "execution_count": null,
      "metadata": {
        "id": "084ziXuki-5i"
      },
      "outputs": [],
      "source": [
        ""
      ]
    }
  ]
}