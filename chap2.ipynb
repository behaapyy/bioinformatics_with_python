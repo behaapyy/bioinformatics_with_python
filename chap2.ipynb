{
  "nbformat": 4,
  "nbformat_minor": 0,
  "metadata": {
    "colab": {
      "name": "chap2",
      "provenance": [],
      "collapsed_sections": [],
      "authorship_tag": "ABX9TyOXnua1csrJoxpQtHBgdQat",
      "include_colab_link": true
    },
    "kernelspec": {
      "name": "python3",
      "display_name": "Python 3"
    },
    "language_info": {
      "name": "python"
    }
  },
  "cells": [
    {
      "cell_type": "markdown",
      "metadata": {
        "id": "view-in-github",
        "colab_type": "text"
      },
      "source": [
        "<a href=\"https://colab.research.google.com/github/behaapyy/bioinformatics_with_python/blob/main/chap2.ipynb\" target=\"_parent\"><img src=\"https://colab.research.google.com/assets/colab-badge.svg\" alt=\"Open In Colab\"/></a>"
      ]
    },
    {
      "cell_type": "markdown",
      "source": [
        "2장. 차세대 염기서열 분석\n"
      ],
      "metadata": {
        "id": "6uKQVHvLat0O"
      }
    },
    {
      "cell_type": "code",
      "source": [
        ""
      ],
      "metadata": {
        "id": "gVmLL15HaVgD"
      },
      "execution_count": null,
      "outputs": []
    }
  ]
}