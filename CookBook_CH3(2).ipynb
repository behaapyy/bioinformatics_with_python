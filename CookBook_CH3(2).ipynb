{
  "cells": [
    {
      "cell_type": "markdown",
      "metadata": {
        "id": "view-in-github",
        "colab_type": "text"
      },
      "source": [
        "<a href=\"https://colab.research.google.com/github/behaapyy/bioinformatics_with_python/blob/main/CookBook_CH3(2).ipynb\" target=\"_parent\"><img src=\"https://colab.research.google.com/assets/colab-badge.svg\" alt=\"Open In Colab\"/></a>"
      ]
    },
    {
      "cell_type": "markdown",
      "metadata": {
        "id": "LOObUv_cp7H1"
      },
      "source": [
        "###  **게놈 주석 살펴보기**\n",
        "\n",
        "- 게놈 데이터에서 유전자, 엑손, 단백질 암호화 서열 등의 특성 정보를 얻기 위해서는 GFF 파일을 사용 (Generic Feature Format)\n",
        "  - 엑손: DNA 서열에서 단백질이나 RNA를 코딩하는 암호화 서열\n",
        "  - 인트론 : 엑손 사이사이에 존재하는 비암호화 서열\n",
        "- 이 장에서는 Anophleles gambiae 게놈 데이터를 GFF 파일로 파싱하고 분석하는 방법을 배움\n",
        "  - GFF란? 게놈의 일반적인 주석 형식\n",
        "  - SQLite 데이터베이스란? 데이터베이스 관리 시스템이지만, 서버가 아니라 응용 프로그램에 넣어 사용하는 비교적 가벼운 데이터베이스\n",
        "\n",
        "\n",
        "\n"
      ]
    },
    {
      "cell_type": "code",
      "execution_count": null,
      "metadata": {
        "colab": {
          "base_uri": "https://localhost:8080/"
        },
        "id": "shMs9Z2VVBwZ",
        "outputId": "ae8a76ae-f8a8-401e-a6dc-3218173c0f77"
      },
      "outputs": [
        {
          "name": "stdout",
          "output_type": "stream",
          "text": [
            "--2022-07-16 15:38:21--  http://plasmodb.org/common/downloads/release-9.3/Pfalciparum3D7/fasta/data/PlasmoDB-9.3_Pfalciparum3D7_Genome.fasta\n",
            "Resolving plasmodb.org (plasmodb.org)... 128.192.21.13\n",
            "Connecting to plasmodb.org (plasmodb.org)|128.192.21.13|:80... connected.\n",
            "HTTP request sent, awaiting response... 301 Moved Permanently\n",
            "Location: https://plasmodb.org/common/downloads/release-9.3/Pfalciparum3D7/fasta/data/PlasmoDB-9.3_Pfalciparum3D7_Genome.fasta [following]\n",
            "--2022-07-16 15:38:21--  https://plasmodb.org/common/downloads/release-9.3/Pfalciparum3D7/fasta/data/PlasmoDB-9.3_Pfalciparum3D7_Genome.fasta\n",
            "Connecting to plasmodb.org (plasmodb.org)|128.192.21.13|:443... connected.\n",
            "HTTP request sent, awaiting response... 200 OK\n",
            "Length: 23723399 (23M) [application/x-fasta]\n",
            "Saving to: ‘PlasmoDB-9.3_Pfalciparum3D7_Genome.fasta’\n",
            "\n",
            "PlasmoDB-9.3_Pfalci 100%[===================>]  22.62M   114MB/s    in 0.2s    \n",
            "\n",
            "2022-07-16 15:38:21 (114 MB/s) - ‘PlasmoDB-9.3_Pfalciparum3D7_Genome.fasta’ saved [23723399/23723399]\n",
            "\n"
          ]
        }
      ],
      "source": [
        "!rm -f PlasmoDB-9.3_Pfalciparum3D7_Genome.fasta 2>/dev/null\n",
        "!wget http://plasmodb.org/common/downloads/release-9.3/Pfalciparum3D7/fasta/data/PlasmoDB-9.3_Pfalciparum3D7_Genome.fasta"
      ]
    },
    {
      "cell_type": "code",
      "execution_count": null,
      "metadata": {
        "colab": {
          "background_save": true,
          "base_uri": "https://localhost:8080/"
        },
        "id": "iqRN9jqBs5WF",
        "outputId": "29172e4d-1317-4cc7-f55f-111f6af9ff11"
      },
      "outputs": [
        {
          "name": "stdout",
          "output_type": "stream",
          "text": [
            "--2022-07-16 15:49:48--  ftp://ftp.vectorbase.org/public_data/organism_data/agambiae/Genome/agambiae.CHROMOSOMES-PEST.AgamP3.fa.gz\n",
            "           => ‘gambiae.fa.gz’\n",
            "Resolving ftp.vectorbase.org (ftp.vectorbase.org)... 129.74.255.228\n",
            "Connecting to ftp.vectorbase.org (ftp.vectorbase.org)|129.74.255.228|:21... failed: Connection timed out.\n",
            "Retrying.\n",
            "\n",
            "--2022-07-16 15:52:00--  ftp://ftp.vectorbase.org/public_data/organism_data/agambiae/Genome/agambiae.CHROMOSOMES-PEST.AgamP3.fa.gz\n",
            "  (try: 2) => ‘gambiae.fa.gz’\n",
            "Connecting to ftp.vectorbase.org (ftp.vectorbase.org)|129.74.255.228|:21... failed: Connection timed out.\n",
            "Retrying.\n",
            "\n",
            "--2022-07-16 15:54:12--  ftp://ftp.vectorbase.org/public_data/organism_data/agambiae/Genome/agambiae.CHROMOSOMES-PEST.AgamP3.fa.gz\n",
            "  (try: 3) => ‘gambiae.fa.gz’\n",
            "Connecting to ftp.vectorbase.org (ftp.vectorbase.org)|129.74.255.228|:21... failed: Connection timed out.\n",
            "Retrying.\n",
            "\n",
            "--2022-07-16 15:56:25--  ftp://ftp.vectorbase.org/public_data/organism_data/agambiae/Genome/agambiae.CHROMOSOMES-PEST.AgamP3.fa.gz\n",
            "  (try: 4) => ‘gambiae.fa.gz’\n",
            "Connecting to ftp.vectorbase.org (ftp.vectorbase.org)|129.74.255.228|:21... failed: Connection timed out.\n",
            "Retrying.\n",
            "\n",
            "--2022-07-16 15:58:41--  ftp://ftp.vectorbase.org/public_data/organism_data/agambiae/Genome/agambiae.CHROMOSOMES-PEST.AgamP3.fa.gz\n",
            "  (try: 5) => ‘gambiae.fa.gz’\n",
            "Connecting to ftp.vectorbase.org (ftp.vectorbase.org)|129.74.255.228|:21... failed: Connection timed out.\n",
            "Retrying.\n",
            "\n",
            "--2022-07-16 16:00:57--  ftp://ftp.vectorbase.org/public_data/organism_data/agambiae/Genome/agambiae.CHROMOSOMES-PEST.AgamP3.fa.gz\n",
            "  (try: 6) => ‘gambiae.fa.gz’\n",
            "Connecting to ftp.vectorbase.org (ftp.vectorbase.org)|129.74.255.228|:21... failed: Connection timed out.\n",
            "Retrying.\n",
            "\n",
            "--2022-07-16 16:03:13--  ftp://ftp.vectorbase.org/public_data/organism_data/agambiae/Genome/agambiae.CHROMOSOMES-PEST.AgamP3.fa.gz\n",
            "  (try: 7) => ‘gambiae.fa.gz’\n",
            "Connecting to ftp.vectorbase.org (ftp.vectorbase.org)|129.74.255.228|:21... failed: Connection timed out.\n",
            "Retrying.\n",
            "\n",
            "--2022-07-16 16:05:29--  ftp://ftp.vectorbase.org/public_data/organism_data/agambiae/Genome/agambiae.CHROMOSOMES-PEST.AgamP3.fa.gz\n",
            "  (try: 8) => ‘gambiae.fa.gz’\n",
            "Connecting to ftp.vectorbase.org (ftp.vectorbase.org)|129.74.255.228|:21... failed: Connection timed out.\n",
            "Retrying.\n",
            "\n",
            "--2022-07-16 16:07:49--  ftp://ftp.vectorbase.org/public_data/organism_data/agambiae/Genome/agambiae.CHROMOSOMES-PEST.AgamP3.fa.gz\n",
            "  (try: 9) => ‘gambiae.fa.gz’\n",
            "Connecting to ftp.vectorbase.org (ftp.vectorbase.org)|129.74.255.228|:21... failed: Connection timed out.\n",
            "Retrying.\n",
            "\n",
            "--2022-07-16 16:10:10--  ftp://ftp.vectorbase.org/public_data/organism_data/agambiae/Genome/agambiae.CHROMOSOMES-PEST.AgamP3.fa.gz\n",
            "  (try:10) => ‘gambiae.fa.gz’\n",
            "Connecting to ftp.vectorbase.org (ftp.vectorbase.org)|129.74.255.228|:21... failed: Connection timed out.\n",
            "Retrying.\n",
            "\n",
            "--2022-07-16 16:12:30--  ftp://ftp.vectorbase.org/public_data/organism_data/agambiae/Genome/agambiae.CHROMOSOMES-PEST.AgamP3.fa.gz\n",
            "  (try:11) => ‘gambiae.fa.gz’\n",
            "Connecting to ftp.vectorbase.org (ftp.vectorbase.org)|129.74.255.228|:21... failed: Connection timed out.\n",
            "Retrying.\n",
            "\n",
            "--2022-07-16 16:14:49--  ftp://ftp.vectorbase.org/public_data/organism_data/agambiae/Genome/agambiae.CHROMOSOMES-PEST.AgamP3.fa.gz\n",
            "  (try:12) => ‘gambiae.fa.gz’\n",
            "Connecting to ftp.vectorbase.org (ftp.vectorbase.org)|129.74.255.228|:21... failed: Connection timed out.\n",
            "Retrying.\n",
            "\n",
            "--2022-07-16 16:17:08--  ftp://ftp.vectorbase.org/public_data/organism_data/agambiae/Genome/agambiae.CHROMOSOMES-PEST.AgamP3.fa.gz\n",
            "  (try:13) => ‘gambiae.fa.gz’\n",
            "Connecting to ftp.vectorbase.org (ftp.vectorbase.org)|129.74.255.228|:21... failed: Connection timed out.\n",
            "Retrying.\n",
            "\n",
            "--2022-07-16 16:19:28--  ftp://ftp.vectorbase.org/public_data/organism_data/agambiae/Genome/agambiae.CHROMOSOMES-PEST.AgamP3.fa.gz\n",
            "  (try:14) => ‘gambiae.fa.gz’\n",
            "Connecting to ftp.vectorbase.org (ftp.vectorbase.org)|129.74.255.228|:21... failed: Connection timed out.\n",
            "Retrying.\n",
            "\n",
            "--2022-07-16 16:21:47--  ftp://ftp.vectorbase.org/public_data/organism_data/agambiae/Genome/agambiae.CHROMOSOMES-PEST.AgamP3.fa.gz\n",
            "  (try:15) => ‘gambiae.fa.gz’\n",
            "Connecting to ftp.vectorbase.org (ftp.vectorbase.org)|129.74.255.228|:21... failed: Connection timed out.\n",
            "Retrying.\n",
            "\n",
            "--2022-07-16 16:24:06--  ftp://ftp.vectorbase.org/public_data/organism_data/agambiae/Genome/agambiae.CHROMOSOMES-PEST.AgamP3.fa.gz\n",
            "  (try:16) => ‘gambiae.fa.gz’\n",
            "Connecting to ftp.vectorbase.org (ftp.vectorbase.org)|129.74.255.228|:21... failed: Connection timed out.\n",
            "Retrying.\n",
            "\n",
            "--2022-07-16 16:26:26--  ftp://ftp.vectorbase.org/public_data/organism_data/agambiae/Genome/agambiae.CHROMOSOMES-PEST.AgamP3.fa.gz\n",
            "  (try:17) => ‘gambiae.fa.gz’\n",
            "Connecting to ftp.vectorbase.org (ftp.vectorbase.org)|129.74.255.228|:21... failed: Connection timed out.\n",
            "Retrying.\n",
            "\n",
            "--2022-07-16 16:28:45--  ftp://ftp.vectorbase.org/public_data/organism_data/agambiae/Genome/agambiae.CHROMOSOMES-PEST.AgamP3.fa.gz\n",
            "  (try:18) => ‘gambiae.fa.gz’\n",
            "Connecting to ftp.vectorbase.org (ftp.vectorbase.org)|129.74.255.228|:21... failed: Connection timed out.\n",
            "Retrying.\n",
            "\n",
            "--2022-07-16 16:31:04--  ftp://ftp.vectorbase.org/public_data/organism_data/agambiae/Genome/agambiae.CHROMOSOMES-PEST.AgamP3.fa.gz\n",
            "  (try:19) => ‘gambiae.fa.gz’\n",
            "Connecting to ftp.vectorbase.org (ftp.vectorbase.org)|129.74.255.228|:21... failed: Connection timed out.\n",
            "Retrying.\n",
            "\n",
            "--2022-07-16 16:33:23--  ftp://ftp.vectorbase.org/public_data/organism_data/agambiae/Genome/agambiae.CHROMOSOMES-PEST.AgamP3.fa.gz\n",
            "  (try:20) => ‘gambiae.fa.gz’\n",
            "Connecting to ftp.vectorbase.org (ftp.vectorbase.org)|129.74.255.228|:21... failed: Connection timed out.\n",
            "Giving up.\n",
            "\n"
          ]
        }
      ],
      "source": [
        "!rm -rf ag.db gambiae.fa.gz 2>/dev/null\n",
        "!wget ftp://ftp.vectorbase.org/public_data/organism_data/agambiae/Genome/agambiae.CHROMOSOMES-PEST.AgamP3.fa.gz -O gambiae.fa.gz"
      ]
    },
    {
      "cell_type": "code",
      "execution_count": null,
      "metadata": {
        "colab": {
          "base_uri": "https://localhost:8080/"
        },
        "id": "GTeXkhtIqFNm",
        "outputId": "2ddcf80c-1a0f-4fc8-d80d-85d926274930"
      },
      "outputs": [
        {
          "name": "stdout",
          "output_type": "stream",
          "text": [
            "Looking in indexes: https://pypi.org/simple, https://us-python.pkg.dev/colab-wheels/public/simple/\n",
            "Collecting gffutils\n",
            "  Downloading gffutils-0.11.0.tar.gz (1.6 MB)\n",
            "\u001b[K     |████████████████████████████████| 1.6 MB 5.2 MB/s \n",
            "\u001b[?25hCollecting pyfaidx>=0.5.5.2\n",
            "  Downloading pyfaidx-0.7.0.tar.gz (102 kB)\n",
            "\u001b[K     |████████████████████████████████| 102 kB 45.6 MB/s \n",
            "\u001b[?25hRequirement already satisfied: six>=1.12.0 in /usr/local/lib/python3.7/dist-packages (from gffutils) (1.15.0)\n",
            "Collecting argh>=0.26.2\n",
            "  Downloading argh-0.26.2-py2.py3-none-any.whl (30 kB)\n",
            "Collecting argcomplete>=1.9.4\n",
            "  Downloading argcomplete-2.0.0-py2.py3-none-any.whl (37 kB)\n",
            "Collecting simplejson\n",
            "  Downloading simplejson-3.17.6-cp37-cp37m-manylinux_2_5_x86_64.manylinux1_x86_64.manylinux_2_12_x86_64.manylinux2010_x86_64.whl (130 kB)\n",
            "\u001b[K     |████████████████████████████████| 130 kB 52.7 MB/s \n",
            "\u001b[?25hRequirement already satisfied: importlib-metadata<5,>=0.23 in /usr/local/lib/python3.7/dist-packages (from argcomplete>=1.9.4->gffutils) (4.12.0)\n",
            "Requirement already satisfied: typing-extensions>=3.6.4 in /usr/local/lib/python3.7/dist-packages (from importlib-metadata<5,>=0.23->argcomplete>=1.9.4->gffutils) (4.1.1)\n",
            "Requirement already satisfied: zipp>=0.5 in /usr/local/lib/python3.7/dist-packages (from importlib-metadata<5,>=0.23->argcomplete>=1.9.4->gffutils) (3.8.0)\n",
            "Requirement already satisfied: setuptools>=0.7 in /usr/local/lib/python3.7/dist-packages (from pyfaidx>=0.5.5.2->gffutils) (57.4.0)\n",
            "Building wheels for collected packages: gffutils, pyfaidx\n",
            "  Building wheel for gffutils (setup.py) ... \u001b[?25l\u001b[?25hdone\n",
            "  Created wheel for gffutils: filename=gffutils-0.11.0-py3-none-any.whl size=1617539 sha256=c5a20c18c8b815256af69fedba613e6b457f1cdb7a448545d4456cb5c4c378fa\n",
            "  Stored in directory: /root/.cache/pip/wheels/ed/42/98/e79a4e6a3a69299717be407322cf2b771c825f918954f6419f\n",
            "  Building wheel for pyfaidx (setup.py) ... \u001b[?25l\u001b[?25hdone\n",
            "  Created wheel for pyfaidx: filename=pyfaidx-0.7.0-py3-none-any.whl size=27697 sha256=f4083ccf1f2ee4288642a8e3c739f91e1b3bce0fbc87afad42ca2e2b6727836f\n",
            "  Stored in directory: /root/.cache/pip/wheels/df/6b/ce/46374a70af569061fa10a6c16525b0d8efe2d9a4069f8a144a\n",
            "Successfully built gffutils pyfaidx\n",
            "Installing collected packages: simplejson, pyfaidx, argh, argcomplete, gffutils\n",
            "Successfully installed argcomplete-2.0.0 argh-0.26.2 gffutils-0.11.0 pyfaidx-0.7.0 simplejson-3.17.6\n"
          ]
        }
      ],
      "source": [
        "!pip install gffutils\n",
        "from collections import defaultdict\n",
        "\n",
        "import gffutils\n",
        "import sqlite3"
      ]
    },
    {
      "cell_type": "markdown",
      "metadata": {
        "id": "XNkIBHh5xV1x"
      },
      "source": [
        "아래부터는 gff 라이브러리를 이용해 파일에 필요한 데이터베이스를 만드는 과정\n",
        "\n",
        "*   gffutils 라이브러리는 게놈의 주석 정보를 효율적으로 저장하는 SQLite 데이터베이스를 만든다\n",
        "\n",
        "\n"
      ]
    },
    {
      "cell_type": "code",
      "execution_count": null,
      "metadata": {
        "id": "rDCzeMW5vi7t"
      },
      "outputs": [],
      "source": [
        "!rm -f ag.db"
      ]
    },
    {
      "cell_type": "code",
      "execution_count": null,
      "metadata": {
        "colab": {
          "base_uri": "https://localhost:8080/",
          "height": 405
        },
        "id": "lHUNu9lay3G6",
        "outputId": "80ec2172-6038-499c-b99e-04eef3c6625c"
      },
      "outputs": [
        {
          "ename": "HTTPError",
          "evalue": "ignored",
          "output_type": "error",
          "traceback": [
            "\u001b[0;31m---------------------------------------------------------------------------\u001b[0m",
            "\u001b[0;31mHTTPError\u001b[0m                                 Traceback (most recent call last)",
            "\u001b[0;32m<ipython-input-8-129a967501a3>\u001b[0m in \u001b[0;36m<module>\u001b[0;34m()\u001b[0m\n\u001b[1;32m      1\u001b[0m \u001b[0;32mtry\u001b[0m\u001b[0;34m:\u001b[0m\u001b[0;34m\u001b[0m\u001b[0;34m\u001b[0m\u001b[0m\n\u001b[0;32m----> 2\u001b[0;31m     \u001b[0mdb\u001b[0m \u001b[0;34m=\u001b[0m \u001b[0mgffutils\u001b[0m\u001b[0;34m.\u001b[0m\u001b[0mcreate_db\u001b[0m\u001b[0;34m(\u001b[0m\u001b[0;34m'https://vectorbase.org/common/downloads/Pre-VEuPathDB%20VectorBase%20files/Anopheles-gambiae-PEST_BASEFEATURES_AgamP4.2.gff3.gz'\u001b[0m\u001b[0;34m,\u001b[0m \u001b[0;34m'ag.db'\u001b[0m\u001b[0;34m)\u001b[0m\u001b[0;34m\u001b[0m\u001b[0;34m\u001b[0m\u001b[0m\n\u001b[0m\u001b[1;32m      3\u001b[0m \u001b[0;32mexcept\u001b[0m \u001b[0msqlite3\u001b[0m\u001b[0;34m.\u001b[0m\u001b[0mOperationalError\u001b[0m\u001b[0;34m:\u001b[0m\u001b[0;34m\u001b[0m\u001b[0;34m\u001b[0m\u001b[0m\n\u001b[1;32m      4\u001b[0m     \u001b[0mdb\u001b[0m \u001b[0;34m=\u001b[0m \u001b[0mgffutils\u001b[0m\u001b[0;34m.\u001b[0m\u001b[0mFeatureDB\u001b[0m\u001b[0;34m(\u001b[0m\u001b[0;34m'ag.db'\u001b[0m\u001b[0;34m)\u001b[0m\u001b[0;34m\u001b[0m\u001b[0;34m\u001b[0m\u001b[0m\n",
            "\u001b[0;32m/usr/local/lib/python3.7/dist-packages/gffutils/create.py\u001b[0m in \u001b[0;36mcreate_db\u001b[0;34m(data, dbfn, id_spec, force, verbose, checklines, merge_strategy, transform, gtf_transcript_key, gtf_gene_key, gtf_subfeature, force_gff, force_dialect_check, from_string, keep_order, text_factory, force_merge_fields, pragmas, sort_attribute_values, dialect, _keep_tempfiles, infer_gene_extent, disable_infer_genes, disable_infer_transcripts, **kwargs)\u001b[0m\n\u001b[1;32m   1361\u001b[0m     \u001b[0;31m# filename, or iterable of Features) and checks `checklines` lines to\u001b[0m\u001b[0;34m\u001b[0m\u001b[0;34m\u001b[0m\u001b[0;34m\u001b[0m\u001b[0m\n\u001b[1;32m   1362\u001b[0m     \u001b[0;31m# identify the dialect.\u001b[0m\u001b[0;34m\u001b[0m\u001b[0;34m\u001b[0m\u001b[0;34m\u001b[0m\u001b[0m\n\u001b[0;32m-> 1363\u001b[0;31m     \u001b[0miterator\u001b[0m \u001b[0;34m=\u001b[0m \u001b[0miterators\u001b[0m\u001b[0;34m.\u001b[0m\u001b[0mDataIterator\u001b[0m\u001b[0;34m(\u001b[0m\u001b[0;34m**\u001b[0m\u001b[0mkwargs\u001b[0m\u001b[0;34m)\u001b[0m\u001b[0;34m\u001b[0m\u001b[0;34m\u001b[0m\u001b[0m\n\u001b[0m\u001b[1;32m   1364\u001b[0m \u001b[0;34m\u001b[0m\u001b[0m\n\u001b[1;32m   1365\u001b[0m     \u001b[0mkwargs\u001b[0m\u001b[0;34m.\u001b[0m\u001b[0mupdate\u001b[0m\u001b[0;34m(\u001b[0m\u001b[0;34m**\u001b[0m\u001b[0m_locals\u001b[0m\u001b[0;34m)\u001b[0m\u001b[0;34m\u001b[0m\u001b[0;34m\u001b[0m\u001b[0m\n",
            "\u001b[0;32m/usr/local/lib/python3.7/dist-packages/gffutils/iterators.py\u001b[0m in \u001b[0;36mDataIterator\u001b[0;34m(data, checklines, transform, force_dialect_check, from_string, **kwargs)\u001b[0m\n\u001b[1;32m    310\u001b[0m                 \u001b[0;32mreturn\u001b[0m \u001b[0m_FileIterator\u001b[0m\u001b[0;34m(\u001b[0m\u001b[0;34m**\u001b[0m\u001b[0m_kwargs\u001b[0m\u001b[0;34m)\u001b[0m\u001b[0;34m\u001b[0m\u001b[0;34m\u001b[0m\u001b[0m\n\u001b[1;32m    311\u001b[0m             \u001b[0;32melif\u001b[0m \u001b[0mis_url\u001b[0m\u001b[0;34m(\u001b[0m\u001b[0mdata\u001b[0m\u001b[0;34m)\u001b[0m\u001b[0;34m:\u001b[0m\u001b[0;34m\u001b[0m\u001b[0;34m\u001b[0m\u001b[0m\n\u001b[0;32m--> 312\u001b[0;31m                 \u001b[0;32mreturn\u001b[0m \u001b[0m_UrlIterator\u001b[0m\u001b[0;34m(\u001b[0m\u001b[0;34m**\u001b[0m\u001b[0m_kwargs\u001b[0m\u001b[0;34m)\u001b[0m\u001b[0;34m\u001b[0m\u001b[0;34m\u001b[0m\u001b[0m\n\u001b[0m\u001b[1;32m    313\u001b[0m             \u001b[0;32melse\u001b[0m\u001b[0;34m:\u001b[0m\u001b[0;34m\u001b[0m\u001b[0;34m\u001b[0m\u001b[0m\n\u001b[1;32m    314\u001b[0m                 raise ValueError(\n",
            "\u001b[0;32m/usr/local/lib/python3.7/dist-packages/gffutils/iterators.py\u001b[0m in \u001b[0;36m__init__\u001b[0;34m(self, data, checklines, transform, force_dialect_check, dialect)\u001b[0m\n\u001b[1;32m     87\u001b[0m             \u001b[0;31m# Otherwise, check some lines to determine what the dialect should\u001b[0m\u001b[0;34m\u001b[0m\u001b[0;34m\u001b[0m\u001b[0;34m\u001b[0m\u001b[0m\n\u001b[1;32m     88\u001b[0m             \u001b[0;31m# be\u001b[0m\u001b[0;34m\u001b[0m\u001b[0;34m\u001b[0m\u001b[0;34m\u001b[0m\u001b[0m\n\u001b[0;32m---> 89\u001b[0;31m             \u001b[0m_peek\u001b[0m \u001b[0;34m=\u001b[0m \u001b[0mself\u001b[0m\u001b[0;34m.\u001b[0m\u001b[0mpeek\u001b[0m\u001b[0;34m(\u001b[0m\u001b[0mchecklines\u001b[0m\u001b[0;34m)\u001b[0m\u001b[0;34m\u001b[0m\u001b[0;34m\u001b[0m\u001b[0m\n\u001b[0m\u001b[1;32m     90\u001b[0m             \u001b[0mself\u001b[0m\u001b[0;34m.\u001b[0m\u001b[0m_peek\u001b[0m \u001b[0;34m=\u001b[0m \u001b[0m_peek\u001b[0m\u001b[0;34m\u001b[0m\u001b[0;34m\u001b[0m\u001b[0m\n\u001b[1;32m     91\u001b[0m             \u001b[0mself\u001b[0m\u001b[0;34m.\u001b[0m\u001b[0mdialect\u001b[0m \u001b[0;34m=\u001b[0m \u001b[0mhelpers\u001b[0m\u001b[0;34m.\u001b[0m\u001b[0m_choose_dialect\u001b[0m\u001b[0;34m(\u001b[0m\u001b[0m_peek\u001b[0m\u001b[0;34m)\u001b[0m\u001b[0;34m\u001b[0m\u001b[0;34m\u001b[0m\u001b[0m\n",
            "\u001b[0;32m/usr/local/lib/python3.7/dist-packages/gffutils/iterators.py\u001b[0m in \u001b[0;36mpeek\u001b[0;34m(self, n)\u001b[0m\n\u001b[1;32m    115\u001b[0m     \u001b[0;32mdef\u001b[0m \u001b[0mpeek\u001b[0m\u001b[0;34m(\u001b[0m\u001b[0mself\u001b[0m\u001b[0;34m,\u001b[0m \u001b[0mn\u001b[0m\u001b[0;34m)\u001b[0m\u001b[0;34m:\u001b[0m\u001b[0;34m\u001b[0m\u001b[0;34m\u001b[0m\u001b[0m\n\u001b[1;32m    116\u001b[0m         \u001b[0minitial\u001b[0m \u001b[0;34m=\u001b[0m \u001b[0;34m[\u001b[0m\u001b[0;34m]\u001b[0m\u001b[0;34m\u001b[0m\u001b[0;34m\u001b[0m\u001b[0m\n\u001b[0;32m--> 117\u001b[0;31m         \u001b[0;32mfor\u001b[0m \u001b[0mi\u001b[0m\u001b[0;34m,\u001b[0m \u001b[0mfeature\u001b[0m \u001b[0;32min\u001b[0m \u001b[0menumerate\u001b[0m\u001b[0;34m(\u001b[0m\u001b[0mself\u001b[0m\u001b[0;34m.\u001b[0m\u001b[0m_custom_iter\u001b[0m\u001b[0;34m(\u001b[0m\u001b[0;34m)\u001b[0m\u001b[0;34m)\u001b[0m\u001b[0;34m:\u001b[0m\u001b[0;34m\u001b[0m\u001b[0;34m\u001b[0m\u001b[0m\n\u001b[0m\u001b[1;32m    118\u001b[0m             \u001b[0minitial\u001b[0m\u001b[0;34m.\u001b[0m\u001b[0mappend\u001b[0m\u001b[0;34m(\u001b[0m\u001b[0mfeature\u001b[0m\u001b[0;34m)\u001b[0m\u001b[0;34m\u001b[0m\u001b[0;34m\u001b[0m\u001b[0m\n\u001b[1;32m    119\u001b[0m             \u001b[0;32mif\u001b[0m \u001b[0mi\u001b[0m \u001b[0;34m==\u001b[0m \u001b[0mn\u001b[0m\u001b[0;34m:\u001b[0m\u001b[0;34m\u001b[0m\u001b[0;34m\u001b[0m\u001b[0m\n",
            "\u001b[0;32m/usr/local/lib/python3.7/dist-packages/gffutils/iterators.py\u001b[0m in \u001b[0;36m_custom_iter\u001b[0;34m(self)\u001b[0m\n\u001b[1;32m    132\u001b[0m         \u001b[0mself\u001b[0m\u001b[0;34m.\u001b[0m\u001b[0mdirectives\u001b[0m \u001b[0;34m=\u001b[0m \u001b[0;34m[\u001b[0m\u001b[0;34m]\u001b[0m\u001b[0;34m\u001b[0m\u001b[0;34m\u001b[0m\u001b[0m\n\u001b[1;32m    133\u001b[0m         \u001b[0mvalid_lines\u001b[0m \u001b[0;34m=\u001b[0m \u001b[0;36m0\u001b[0m\u001b[0;34m\u001b[0m\u001b[0;34m\u001b[0m\u001b[0m\n\u001b[0;32m--> 134\u001b[0;31m         \u001b[0;32mwith\u001b[0m \u001b[0mself\u001b[0m\u001b[0;34m.\u001b[0m\u001b[0mopen_function\u001b[0m\u001b[0;34m(\u001b[0m\u001b[0mself\u001b[0m\u001b[0;34m.\u001b[0m\u001b[0mdata\u001b[0m\u001b[0;34m)\u001b[0m \u001b[0;32mas\u001b[0m \u001b[0mfh\u001b[0m\u001b[0;34m:\u001b[0m\u001b[0;34m\u001b[0m\u001b[0;34m\u001b[0m\u001b[0m\n\u001b[0m\u001b[1;32m    135\u001b[0m             \u001b[0;32mfor\u001b[0m \u001b[0mi\u001b[0m\u001b[0;34m,\u001b[0m \u001b[0mline\u001b[0m \u001b[0;32min\u001b[0m \u001b[0menumerate\u001b[0m\u001b[0;34m(\u001b[0m\u001b[0mfh\u001b[0m\u001b[0;34m)\u001b[0m\u001b[0;34m:\u001b[0m\u001b[0;34m\u001b[0m\u001b[0;34m\u001b[0m\u001b[0m\n\u001b[1;32m    136\u001b[0m                 \u001b[0;32mif\u001b[0m \u001b[0misinstance\u001b[0m\u001b[0;34m(\u001b[0m\u001b[0mline\u001b[0m\u001b[0;34m,\u001b[0m \u001b[0msix\u001b[0m\u001b[0;34m.\u001b[0m\u001b[0mbinary_type\u001b[0m\u001b[0;34m)\u001b[0m\u001b[0;34m:\u001b[0m\u001b[0;34m\u001b[0m\u001b[0;34m\u001b[0m\u001b[0m\n",
            "\u001b[0;32m/usr/lib/python3.7/contextlib.py\u001b[0m in \u001b[0;36m__enter__\u001b[0;34m(self)\u001b[0m\n\u001b[1;32m    110\u001b[0m         \u001b[0;32mdel\u001b[0m \u001b[0mself\u001b[0m\u001b[0;34m.\u001b[0m\u001b[0margs\u001b[0m\u001b[0;34m,\u001b[0m \u001b[0mself\u001b[0m\u001b[0;34m.\u001b[0m\u001b[0mkwds\u001b[0m\u001b[0;34m,\u001b[0m \u001b[0mself\u001b[0m\u001b[0;34m.\u001b[0m\u001b[0mfunc\u001b[0m\u001b[0;34m\u001b[0m\u001b[0;34m\u001b[0m\u001b[0m\n\u001b[1;32m    111\u001b[0m         \u001b[0;32mtry\u001b[0m\u001b[0;34m:\u001b[0m\u001b[0;34m\u001b[0m\u001b[0;34m\u001b[0m\u001b[0m\n\u001b[0;32m--> 112\u001b[0;31m             \u001b[0;32mreturn\u001b[0m \u001b[0mnext\u001b[0m\u001b[0;34m(\u001b[0m\u001b[0mself\u001b[0m\u001b[0;34m.\u001b[0m\u001b[0mgen\u001b[0m\u001b[0;34m)\u001b[0m\u001b[0;34m\u001b[0m\u001b[0;34m\u001b[0m\u001b[0m\n\u001b[0m\u001b[1;32m    113\u001b[0m         \u001b[0;32mexcept\u001b[0m \u001b[0mStopIteration\u001b[0m\u001b[0;34m:\u001b[0m\u001b[0;34m\u001b[0m\u001b[0;34m\u001b[0m\u001b[0m\n\u001b[1;32m    114\u001b[0m             \u001b[0;32mraise\u001b[0m \u001b[0mRuntimeError\u001b[0m\u001b[0;34m(\u001b[0m\u001b[0;34m\"generator didn't yield\"\u001b[0m\u001b[0;34m)\u001b[0m \u001b[0;32mfrom\u001b[0m \u001b[0;32mNone\u001b[0m\u001b[0;34m\u001b[0m\u001b[0;34m\u001b[0m\u001b[0m\n",
            "\u001b[0;32m/usr/local/lib/python3.7/dist-packages/gffutils/iterators.py\u001b[0m in \u001b[0;36mopen_function\u001b[0;34m(self, data)\u001b[0m\n\u001b[1;32m    162\u001b[0m     \u001b[0;34m@\u001b[0m\u001b[0mcontextmanager\u001b[0m\u001b[0;34m\u001b[0m\u001b[0;34m\u001b[0m\u001b[0m\n\u001b[1;32m    163\u001b[0m     \u001b[0;32mdef\u001b[0m \u001b[0mopen_function\u001b[0m\u001b[0;34m(\u001b[0m\u001b[0mself\u001b[0m\u001b[0;34m,\u001b[0m \u001b[0mdata\u001b[0m\u001b[0;34m)\u001b[0m\u001b[0;34m:\u001b[0m\u001b[0;34m\u001b[0m\u001b[0;34m\u001b[0m\u001b[0m\n\u001b[0;32m--> 164\u001b[0;31m         \u001b[0mresponse\u001b[0m \u001b[0;34m=\u001b[0m \u001b[0murlopen\u001b[0m\u001b[0;34m(\u001b[0m\u001b[0mdata\u001b[0m\u001b[0;34m)\u001b[0m\u001b[0;34m\u001b[0m\u001b[0;34m\u001b[0m\u001b[0m\n\u001b[0m\u001b[1;32m    165\u001b[0m \u001b[0;34m\u001b[0m\u001b[0m\n\u001b[1;32m    166\u001b[0m         \u001b[0;31m# ideas from\u001b[0m\u001b[0;34m\u001b[0m\u001b[0;34m\u001b[0m\u001b[0;34m\u001b[0m\u001b[0m\n",
            "\u001b[0;32m/usr/lib/python3.7/urllib/request.py\u001b[0m in \u001b[0;36murlopen\u001b[0;34m(url, data, timeout, cafile, capath, cadefault, context)\u001b[0m\n\u001b[1;32m    220\u001b[0m     \u001b[0;32melse\u001b[0m\u001b[0;34m:\u001b[0m\u001b[0;34m\u001b[0m\u001b[0;34m\u001b[0m\u001b[0m\n\u001b[1;32m    221\u001b[0m         \u001b[0mopener\u001b[0m \u001b[0;34m=\u001b[0m \u001b[0m_opener\u001b[0m\u001b[0;34m\u001b[0m\u001b[0;34m\u001b[0m\u001b[0m\n\u001b[0;32m--> 222\u001b[0;31m     \u001b[0;32mreturn\u001b[0m \u001b[0mopener\u001b[0m\u001b[0;34m.\u001b[0m\u001b[0mopen\u001b[0m\u001b[0;34m(\u001b[0m\u001b[0murl\u001b[0m\u001b[0;34m,\u001b[0m \u001b[0mdata\u001b[0m\u001b[0;34m,\u001b[0m \u001b[0mtimeout\u001b[0m\u001b[0;34m)\u001b[0m\u001b[0;34m\u001b[0m\u001b[0;34m\u001b[0m\u001b[0m\n\u001b[0m\u001b[1;32m    223\u001b[0m \u001b[0;34m\u001b[0m\u001b[0m\n\u001b[1;32m    224\u001b[0m \u001b[0;32mdef\u001b[0m \u001b[0minstall_opener\u001b[0m\u001b[0;34m(\u001b[0m\u001b[0mopener\u001b[0m\u001b[0;34m)\u001b[0m\u001b[0;34m:\u001b[0m\u001b[0;34m\u001b[0m\u001b[0;34m\u001b[0m\u001b[0m\n",
            "\u001b[0;32m/usr/lib/python3.7/urllib/request.py\u001b[0m in \u001b[0;36mopen\u001b[0;34m(self, fullurl, data, timeout)\u001b[0m\n\u001b[1;32m    529\u001b[0m         \u001b[0;32mfor\u001b[0m \u001b[0mprocessor\u001b[0m \u001b[0;32min\u001b[0m \u001b[0mself\u001b[0m\u001b[0;34m.\u001b[0m\u001b[0mprocess_response\u001b[0m\u001b[0;34m.\u001b[0m\u001b[0mget\u001b[0m\u001b[0;34m(\u001b[0m\u001b[0mprotocol\u001b[0m\u001b[0;34m,\u001b[0m \u001b[0;34m[\u001b[0m\u001b[0;34m]\u001b[0m\u001b[0;34m)\u001b[0m\u001b[0;34m:\u001b[0m\u001b[0;34m\u001b[0m\u001b[0;34m\u001b[0m\u001b[0m\n\u001b[1;32m    530\u001b[0m             \u001b[0mmeth\u001b[0m \u001b[0;34m=\u001b[0m \u001b[0mgetattr\u001b[0m\u001b[0;34m(\u001b[0m\u001b[0mprocessor\u001b[0m\u001b[0;34m,\u001b[0m \u001b[0mmeth_name\u001b[0m\u001b[0;34m)\u001b[0m\u001b[0;34m\u001b[0m\u001b[0;34m\u001b[0m\u001b[0m\n\u001b[0;32m--> 531\u001b[0;31m             \u001b[0mresponse\u001b[0m \u001b[0;34m=\u001b[0m \u001b[0mmeth\u001b[0m\u001b[0;34m(\u001b[0m\u001b[0mreq\u001b[0m\u001b[0;34m,\u001b[0m \u001b[0mresponse\u001b[0m\u001b[0;34m)\u001b[0m\u001b[0;34m\u001b[0m\u001b[0;34m\u001b[0m\u001b[0m\n\u001b[0m\u001b[1;32m    532\u001b[0m \u001b[0;34m\u001b[0m\u001b[0m\n\u001b[1;32m    533\u001b[0m         \u001b[0;32mreturn\u001b[0m \u001b[0mresponse\u001b[0m\u001b[0;34m\u001b[0m\u001b[0;34m\u001b[0m\u001b[0m\n",
            "\u001b[0;32m/usr/lib/python3.7/urllib/request.py\u001b[0m in \u001b[0;36mhttp_response\u001b[0;34m(self, request, response)\u001b[0m\n\u001b[1;32m    639\u001b[0m         \u001b[0;32mif\u001b[0m \u001b[0;32mnot\u001b[0m \u001b[0;34m(\u001b[0m\u001b[0;36m200\u001b[0m \u001b[0;34m<=\u001b[0m \u001b[0mcode\u001b[0m \u001b[0;34m<\u001b[0m \u001b[0;36m300\u001b[0m\u001b[0;34m)\u001b[0m\u001b[0;34m:\u001b[0m\u001b[0;34m\u001b[0m\u001b[0;34m\u001b[0m\u001b[0m\n\u001b[1;32m    640\u001b[0m             response = self.parent.error(\n\u001b[0;32m--> 641\u001b[0;31m                 'http', request, response, code, msg, hdrs)\n\u001b[0m\u001b[1;32m    642\u001b[0m \u001b[0;34m\u001b[0m\u001b[0m\n\u001b[1;32m    643\u001b[0m         \u001b[0;32mreturn\u001b[0m \u001b[0mresponse\u001b[0m\u001b[0;34m\u001b[0m\u001b[0;34m\u001b[0m\u001b[0m\n",
            "\u001b[0;32m/usr/lib/python3.7/urllib/request.py\u001b[0m in \u001b[0;36merror\u001b[0;34m(self, proto, *args)\u001b[0m\n\u001b[1;32m    567\u001b[0m         \u001b[0;32mif\u001b[0m \u001b[0mhttp_err\u001b[0m\u001b[0;34m:\u001b[0m\u001b[0;34m\u001b[0m\u001b[0;34m\u001b[0m\u001b[0m\n\u001b[1;32m    568\u001b[0m             \u001b[0margs\u001b[0m \u001b[0;34m=\u001b[0m \u001b[0;34m(\u001b[0m\u001b[0mdict\u001b[0m\u001b[0;34m,\u001b[0m \u001b[0;34m'default'\u001b[0m\u001b[0;34m,\u001b[0m \u001b[0;34m'http_error_default'\u001b[0m\u001b[0;34m)\u001b[0m \u001b[0;34m+\u001b[0m \u001b[0morig_args\u001b[0m\u001b[0;34m\u001b[0m\u001b[0;34m\u001b[0m\u001b[0m\n\u001b[0;32m--> 569\u001b[0;31m             \u001b[0;32mreturn\u001b[0m \u001b[0mself\u001b[0m\u001b[0;34m.\u001b[0m\u001b[0m_call_chain\u001b[0m\u001b[0;34m(\u001b[0m\u001b[0;34m*\u001b[0m\u001b[0margs\u001b[0m\u001b[0;34m)\u001b[0m\u001b[0;34m\u001b[0m\u001b[0;34m\u001b[0m\u001b[0m\n\u001b[0m\u001b[1;32m    570\u001b[0m \u001b[0;34m\u001b[0m\u001b[0m\n\u001b[1;32m    571\u001b[0m \u001b[0;31m# XXX probably also want an abstract factory that knows when it makes\u001b[0m\u001b[0;34m\u001b[0m\u001b[0;34m\u001b[0m\u001b[0;34m\u001b[0m\u001b[0m\n",
            "\u001b[0;32m/usr/lib/python3.7/urllib/request.py\u001b[0m in \u001b[0;36m_call_chain\u001b[0;34m(self, chain, kind, meth_name, *args)\u001b[0m\n\u001b[1;32m    501\u001b[0m         \u001b[0;32mfor\u001b[0m \u001b[0mhandler\u001b[0m \u001b[0;32min\u001b[0m \u001b[0mhandlers\u001b[0m\u001b[0;34m:\u001b[0m\u001b[0;34m\u001b[0m\u001b[0;34m\u001b[0m\u001b[0m\n\u001b[1;32m    502\u001b[0m             \u001b[0mfunc\u001b[0m \u001b[0;34m=\u001b[0m \u001b[0mgetattr\u001b[0m\u001b[0;34m(\u001b[0m\u001b[0mhandler\u001b[0m\u001b[0;34m,\u001b[0m \u001b[0mmeth_name\u001b[0m\u001b[0;34m)\u001b[0m\u001b[0;34m\u001b[0m\u001b[0;34m\u001b[0m\u001b[0m\n\u001b[0;32m--> 503\u001b[0;31m             \u001b[0mresult\u001b[0m \u001b[0;34m=\u001b[0m \u001b[0mfunc\u001b[0m\u001b[0;34m(\u001b[0m\u001b[0;34m*\u001b[0m\u001b[0margs\u001b[0m\u001b[0;34m)\u001b[0m\u001b[0;34m\u001b[0m\u001b[0;34m\u001b[0m\u001b[0m\n\u001b[0m\u001b[1;32m    504\u001b[0m             \u001b[0;32mif\u001b[0m \u001b[0mresult\u001b[0m \u001b[0;32mis\u001b[0m \u001b[0;32mnot\u001b[0m \u001b[0;32mNone\u001b[0m\u001b[0;34m:\u001b[0m\u001b[0;34m\u001b[0m\u001b[0;34m\u001b[0m\u001b[0m\n\u001b[1;32m    505\u001b[0m                 \u001b[0;32mreturn\u001b[0m \u001b[0mresult\u001b[0m\u001b[0;34m\u001b[0m\u001b[0;34m\u001b[0m\u001b[0m\n",
            "\u001b[0;32m/usr/lib/python3.7/urllib/request.py\u001b[0m in \u001b[0;36mhttp_error_default\u001b[0;34m(self, req, fp, code, msg, hdrs)\u001b[0m\n\u001b[1;32m    647\u001b[0m \u001b[0;32mclass\u001b[0m \u001b[0mHTTPDefaultErrorHandler\u001b[0m\u001b[0;34m(\u001b[0m\u001b[0mBaseHandler\u001b[0m\u001b[0;34m)\u001b[0m\u001b[0;34m:\u001b[0m\u001b[0;34m\u001b[0m\u001b[0;34m\u001b[0m\u001b[0m\n\u001b[1;32m    648\u001b[0m     \u001b[0;32mdef\u001b[0m \u001b[0mhttp_error_default\u001b[0m\u001b[0;34m(\u001b[0m\u001b[0mself\u001b[0m\u001b[0;34m,\u001b[0m \u001b[0mreq\u001b[0m\u001b[0;34m,\u001b[0m \u001b[0mfp\u001b[0m\u001b[0;34m,\u001b[0m \u001b[0mcode\u001b[0m\u001b[0;34m,\u001b[0m \u001b[0mmsg\u001b[0m\u001b[0;34m,\u001b[0m \u001b[0mhdrs\u001b[0m\u001b[0;34m)\u001b[0m\u001b[0;34m:\u001b[0m\u001b[0;34m\u001b[0m\u001b[0;34m\u001b[0m\u001b[0m\n\u001b[0;32m--> 649\u001b[0;31m         \u001b[0;32mraise\u001b[0m \u001b[0mHTTPError\u001b[0m\u001b[0;34m(\u001b[0m\u001b[0mreq\u001b[0m\u001b[0;34m.\u001b[0m\u001b[0mfull_url\u001b[0m\u001b[0;34m,\u001b[0m \u001b[0mcode\u001b[0m\u001b[0;34m,\u001b[0m \u001b[0mmsg\u001b[0m\u001b[0;34m,\u001b[0m \u001b[0mhdrs\u001b[0m\u001b[0;34m,\u001b[0m \u001b[0mfp\u001b[0m\u001b[0;34m)\u001b[0m\u001b[0;34m\u001b[0m\u001b[0;34m\u001b[0m\u001b[0m\n\u001b[0m\u001b[1;32m    650\u001b[0m \u001b[0;34m\u001b[0m\u001b[0m\n\u001b[1;32m    651\u001b[0m \u001b[0;32mclass\u001b[0m \u001b[0mHTTPRedirectHandler\u001b[0m\u001b[0;34m(\u001b[0m\u001b[0mBaseHandler\u001b[0m\u001b[0;34m)\u001b[0m\u001b[0;34m:\u001b[0m\u001b[0;34m\u001b[0m\u001b[0;34m\u001b[0m\u001b[0m\n",
            "\u001b[0;31mHTTPError\u001b[0m: HTTP Error 404: Not Found"
          ]
        }
      ],
      "source": [
        "try:\n",
        "    db = gffutils.create_db('https://vectorbase.org/common/downloads/Pre-VEuPathDB%20VectorBase%20files/Anopheles-gambiae-PEST_BASEFEATURES_AgamP4.2.gff3.gz', 'ag.db')\n",
        "except sqlite3.OperationalError:\n",
        "    db = gffutils.FeatureDB('ag.db')"
      ]
    },
    {
      "cell_type": "markdown",
      "metadata": {
        "id": "75JfafRPq3kc"
      },
      "source": [
        "아래는 사용 가능한 특성의 유형들과 개수를 출력하는 코드"
      ]
    },
    {
      "cell_type": "code",
      "execution_count": null,
      "metadata": {
        "id": "b3IQbNauzWcx"
      },
      "outputs": [],
      "source": [
        "print(list(db.featuretypes()))\n",
        "for feat_type in db.featuretypes():\n",
        "    print(feat_type, db.count_features_of_type(feat_type))"
      ]
    },
    {
      "cell_type": "markdown",
      "metadata": {
        "id": "xqdqvtdjq_3n"
      },
      "source": [
        "콘티그의 모든 특성 유형을 확인한다, 이 출력으로 모든 상염색체와 성염색체, 미토콘드리아, 알려지지 않은 염색체의 주석 정보를 확인함\n",
        "- 시퀀스 자른게 리드, 리드 모은게 콘티그"
      ]
    },
    {
      "cell_type": "code",
      "execution_count": null,
      "metadata": {
        "id": "cdcdCqg2xLUx"
      },
      "outputs": [],
      "source": [
        "for contig in db.features_of_type('contig'):\n",
        "    print(contig)"
      ]
    },
    {
      "cell_type": "markdown",
      "metadata": {
        "id": "aTSeBCh5rJ4S"
      },
      "source": [
        "염색체별로 유전자의 개수, 유전자별 전사 산물의 수, 엑손의 숫자와 같은 유용한 정보들을 추출\n",
        "- 모든 콘티그 특성들을 순회하면서 전사 산물이 존재하면 전사당 엑손의 개수, 전사 산물이 존재하지 않는다면 엑손의 개수만 헤아림 "
      ]
    },
    {
      "cell_type": "code",
      "execution_count": null,
      "metadata": {
        "id": "13AZFXHLxOO1"
      },
      "outputs": [],
      "source": [
        "num_mRNAs = defaultdict(int)\n",
        "num_exons = defaultdict(int)\n",
        "max_exons = 0\n",
        "max_span = 0\n",
        "for contig in db.features_of_type('contig'):\n",
        "    cnt = 0\n",
        "    for gene in db.region((contig.seqid, contig.start, contig.end), featuretype='gene'):\n",
        "        cnt += 1\n",
        "        span = abs(gene.start - gene.end) # strand\n",
        "        if span > max_span:\n",
        "            max_span = span\n",
        "            max_span_gene = gene\n",
        "        my_mRNAs = list(db.children(gene, featuretype='mRNA'))\n",
        "        num_mRNAs[len(my_mRNAs)] += 1\n",
        "        if len(my_mRNAs) == 0:\n",
        "            exon_check = [gene]\n",
        "        else:\n",
        "            exon_check = my_mRNAs\n",
        "        for check in exon_check:\n",
        "            my_exons = list(db.children(check, featuretype='exon'))\n",
        "            num_exons[len(my_exons)] += 1\n",
        "            if len(my_exons) > max_exons:\n",
        "                max_exons = len(my_exons)\n",
        "                max_exons_gene = gene\n",
        "    print('contig %s, number of genes %d' % (contig.seqid, cnt))\n",
        "print('Max number of exons: %s (%d)' % (max_exons_gene.id, max_exons))\n",
        "print('Max span: %s (%d)' % (max_span_gene.id, max_span))\n",
        "print(num_mRNAs)\n",
        "print(num_exons)"
      ]
    },
    {
      "cell_type": "markdown",
      "metadata": {
        "id": "b441jYE2r_g1"
      },
      "source": [
        "* GFF 파일 형식 \n",
        "  - gmod.org/wiki/GFF3\n",
        "  - standard file format for storing genomic features in a text file\n",
        "* BED 파일 \n",
        "  - genome.ucsc.edu/FAQ/FAQformat.html#format1\n",
        "  - provides a flexible way to define the data lines that are displayed in an annotation track"
      ]
    },
    {
      "cell_type": "markdown",
      "metadata": {
        "id": "cmxMU46iqGfu"
      },
      "source": [
        "### **게놈 주석으로 원하는 유전자 추출하기**\n",
        "주석 정보를 통해 참조 게놈의 FASTA 파일에서 살충제 저항성에 관한 VGSC 유전자를 추출해보자"
      ]
    },
    {
      "cell_type": "code",
      "execution_count": null,
      "metadata": {
        "id": "1X31vnwpviVu"
      },
      "outputs": [],
      "source": [
        "import gzip\n",
        "from Bio import Alphabet, Seq, SeqIO"
      ]
    },
    {
      "cell_type": "markdown",
      "metadata": {
        "id": "7iCZM9a9tXui"
      },
      "source": [
        "VectorBase : 질병 매개체 데이터베이스, 원하는 유전자의 식별자는 사용자가 직접 검색해서 찾아야 함"
      ]
    },
    {
      "cell_type": "code",
      "execution_count": null,
      "metadata": {
        "colab": {
          "background_save": true
        },
        "id": "afTAPYq7qKRD",
        "outputId": "b138e8ef-bcb0-48df-8dee-cc1bf8eaf941"
      },
      "outputs": [
        {
          "ename": "NameError",
          "evalue": "ignored",
          "output_type": "error",
          "traceback": [
            "\u001b[0;31m---------------------------------------------------------------------------\u001b[0m",
            "\u001b[0;31mNameError\u001b[0m                                 Traceback (most recent call last)",
            "\u001b[0;32m<ipython-input-12-bf8598eb8343>\u001b[0m in \u001b[0;36m<module>\u001b[0;34m()\u001b[0m\n\u001b[1;32m      1\u001b[0m \u001b[0mgene_id\u001b[0m \u001b[0;34m=\u001b[0m \u001b[0;34m'AGAP004707'\u001b[0m\u001b[0;34m\u001b[0m\u001b[0;34m\u001b[0m\u001b[0m\n\u001b[0;32m----> 2\u001b[0;31m \u001b[0mgene\u001b[0m \u001b[0;34m=\u001b[0m \u001b[0mdb\u001b[0m\u001b[0;34m[\u001b[0m\u001b[0mgene_id\u001b[0m\u001b[0;34m]\u001b[0m\u001b[0;34m\u001b[0m\u001b[0;34m\u001b[0m\u001b[0m\n\u001b[0m\u001b[1;32m      3\u001b[0m \u001b[0mprint\u001b[0m\u001b[0;34m(\u001b[0m\u001b[0mgene\u001b[0m\u001b[0;34m)\u001b[0m\u001b[0;34m\u001b[0m\u001b[0;34m\u001b[0m\u001b[0m\n\u001b[1;32m      4\u001b[0m \u001b[0mprint\u001b[0m\u001b[0;34m(\u001b[0m\u001b[0mgene\u001b[0m\u001b[0;34m.\u001b[0m\u001b[0mseqid\u001b[0m\u001b[0;34m,\u001b[0m \u001b[0mgene\u001b[0m\u001b[0;34m.\u001b[0m\u001b[0mstrand\u001b[0m\u001b[0;34m)\u001b[0m\u001b[0;34m\u001b[0m\u001b[0;34m\u001b[0m\u001b[0m\n",
            "\u001b[0;31mNameError\u001b[0m: name 'db' is not defined"
          ]
        }
      ],
      "source": [
        "gene_id = 'AGAP004707'\n",
        "gene = db[gene_id]\n",
        "print(gene)\n",
        "print(gene.seqid, gene.strand)"
      ]
    },
    {
      "cell_type": "markdown",
      "metadata": {
        "id": "G4DS_4Bytmol"
      },
      "source": [
        "2L 염색체의 전체 서열을 메모리에 불러오기"
      ]
    },
    {
      "cell_type": "code",
      "execution_count": null,
      "metadata": {
        "colab": {
          "background_save": true
        },
        "id": "qJ8vnXWztRUY"
      },
      "outputs": [],
      "source": [
        "recs = SeqIO.parse(gzip.open('gambiae.fa.gz', 'rt', encoding='utf-8'), 'fasta')\n",
        "for rec in recs:\n",
        "    print(rec.description)\n",
        "    if rec.description.split(':')[2] == gene.seqid:\n",
        "        my_seq = rec.seq\n",
        "        break\n",
        "print(my_seq.alphabet)"
      ]
    },
    {
      "cell_type": "markdown",
      "metadata": {
        "id": "R_3bPNtatwXT"
      },
      "source": [
        "단백질 암호화 서열 (Coding sequence)의 목록을 만들어주는 함수 \n",
        "- DNA 서열을 단백질 서열로 번역하는 과정, 전사 산물 중 mRNA 만 선택한다 \n",
        "  - 전사 산물로 나온 RNA 종류에는 3가지 있음 (mRNA, rRNA, tRNA) "
      ]
    },
    {
      "cell_type": "code",
      "execution_count": null,
      "metadata": {
        "colab": {
          "background_save": true
        },
        "id": "vLyjCaINttRy"
      },
      "outputs": [],
      "source": [
        "def get_sequence(chrom_seq, CDSs, strand):\n",
        "    seq = Seq.Seq('', alphabet=Alphabet.IUPAC.unambiguous_dna)\n",
        "    for CDS in CDSs:\n",
        "        #FRAME???\n",
        "        my_cds = Seq.Seq(str(chrom_seq[CDS.start - 1: CDS.end]), alphabet=Alphabet.IUPAC.unambiguous_dna)\n",
        "        seq += my_cds\n",
        "    return seq if strand == '+' else seq.reverse_complement()"
      ]
    },
    {
      "cell_type": "code",
      "execution_count": null,
      "metadata": {
        "colab": {
          "background_save": true
        },
        "id": "fNTtrNBNt1YC"
      },
      "outputs": [],
      "source": [
        "mRNAs = db.children(gene, featuretype='mRNA')\n",
        "for mRNA in mRNAs:\n",
        "    print(mRNA.id)\n",
        "    if mRNA.id.endswith('RA'):\n",
        "        break\n"
      ]
    },
    {
      "cell_type": "markdown",
      "metadata": {
        "id": "oKqr73bCuu05"
      },
      "source": [
        "mRNA에 상응하는 Coding sequence 얻은 뒤에 단백질 서열로 번역"
      ]
    },
    {
      "cell_type": "code",
      "execution_count": null,
      "metadata": {
        "id": "Vw0PgxihuteU"
      },
      "outputs": [],
      "source": [
        "CDSs = db.children(mRNA, featuretype='CDS', order_by='start')\n",
        "gene_seq = get_sequence(my_seq, CDSs, gene.strand)\n",
        "\n",
        "print(len(gene_seq), gene_seq)\n",
        "prot = gene_seq.translate()\n",
        "print(len(prot), prot)"
      ]
    },
    {
      "cell_type": "markdown",
      "metadata": {
        "id": "t3aq8fF_u684"
      },
      "source": [
        "(-) 가닥 DNA에 대한 예시로 유전자 근처에 존재하는 유전자를 처리 - mRNA 가닥은 DNA 에서 전사된 것, (+) strand\n",
        "- 전사식별자를 하드코딩했으나 실제 분석할 때는 이렇게 사용하면 안됨!"
      ]
    },
    {
      "cell_type": "code",
      "execution_count": null,
      "metadata": {
        "id": "QAbghlAzu1PF"
      },
      "outputs": [],
      "source": [
        "reverse_transcript_id = 'AGAP004708-RA\n",
        "reverse_CDSs = db.children(reverse_transcript_id, featuretype='CDS', order_by='start')\n",
        "reverse_seq = get_sequence(my_seq, reverse_CDSs, '-')\n",
        "\n",
        "print(len(reverse_seq), reverse_seq)\n",
        "reverse_prot = reverse_seq.translate()\n",
        "print(len(reverse_prot), reverse_prot)"
      ]
    },
    {
      "cell_type": "markdown",
      "metadata": {
        "id": "LxteCg2_vK5K"
      },
      "source": [
        "\n",
        "CDS와 엑손의 차이\n",
        "\n",
        "![F2A4288E-B994-44E0-8038-65713260E2CE.png](data:image/png;base64,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)"
      ]
    }
  ],
  "metadata": {
    "colab": {
      "collapsed_sections": [],
      "name": "CookBook_CH3(2).ipynb",
      "provenance": [],
      "include_colab_link": true
    },
    "kernelspec": {
      "display_name": "Python 3",
      "name": "python3"
    },
    "language_info": {
      "name": "python"
    }
  },
  "nbformat": 4,
  "nbformat_minor": 0
}